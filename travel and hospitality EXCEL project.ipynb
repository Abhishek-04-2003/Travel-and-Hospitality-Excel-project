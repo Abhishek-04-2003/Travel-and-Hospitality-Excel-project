{
  "nbformat": 4,
  "nbformat_minor": 0,
  "metadata": {
    "colab": {
      "provenance": []
    },
    "kernelspec": {
      "name": "python3",
      "display_name": "Python 3"
    },
    "language_info": {
      "name": "python"
    }
  },
  "cells": [
    {
      "cell_type": "code",
      "execution_count": null,
      "metadata": {
        "id": "6shnF06NiIb9"
      },
      "outputs": [],
      "source": [
        "Here is the Excel project file for my Travel and Hospitality Excel project\n",
        "The file i stored in google drive it contains the project requirements\n",
        "project link:- https://docs.google.com/spreadsheets/d/1CtD13kdOiNHdiKU_FDz90NhYxOjytikM/edit?usp=sharing&ouid=104391138069640060705&rtpof=true&sd=true\n"
      ]
    }
  ]
}